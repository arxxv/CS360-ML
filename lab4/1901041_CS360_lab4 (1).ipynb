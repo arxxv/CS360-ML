{
  "nbformat": 4,
  "nbformat_minor": 0,
  "metadata": {
    "colab": {
      "name": "1901041_CS360_lab4.ipynb",
      "provenance": [],
      "collapsed_sections": []
    },
    "kernelspec": {
      "name": "python3",
      "display_name": "Python 3"
    },
    "language_info": {
      "name": "python"
    }
  },
  "cells": [
    {
      "cell_type": "code",
      "metadata": {
        "colab": {
          "base_uri": "https://localhost:8080/",
          "height": 221
        },
        "id": "YmO9CcyBfEMp",
        "outputId": "6c46d200-732f-485b-e186-f419ea300328"
      },
      "source": [
        "import pandas as pd\n",
        "df = pd.read_csv('Cricket_chirps.csv')\n",
        "print(df.shape)\n",
        "df.head()"
      ],
      "execution_count": 1,
      "outputs": [
        {
          "output_type": "stream",
          "name": "stdout",
          "text": [
            "(1499, 2)\n"
          ]
        },
        {
          "output_type": "execute_result",
          "data": {
            "text/html": [
              "<div>\n",
              "<style scoped>\n",
              "    .dataframe tbody tr th:only-of-type {\n",
              "        vertical-align: middle;\n",
              "    }\n",
              "\n",
              "    .dataframe tbody tr th {\n",
              "        vertical-align: top;\n",
              "    }\n",
              "\n",
              "    .dataframe thead th {\n",
              "        text-align: right;\n",
              "    }\n",
              "</style>\n",
              "<table border=\"1\" class=\"dataframe\">\n",
              "  <thead>\n",
              "    <tr style=\"text-align: right;\">\n",
              "      <th></th>\n",
              "      <th>X</th>\n",
              "      <th>Y</th>\n",
              "    </tr>\n",
              "  </thead>\n",
              "  <tbody>\n",
              "    <tr>\n",
              "      <th>0</th>\n",
              "      <td>88.599998</td>\n",
              "      <td>19</td>\n",
              "    </tr>\n",
              "    <tr>\n",
              "      <th>1</th>\n",
              "      <td>71.599998</td>\n",
              "      <td>16</td>\n",
              "    </tr>\n",
              "    <tr>\n",
              "      <th>2</th>\n",
              "      <td>93.300003</td>\n",
              "      <td>22</td>\n",
              "    </tr>\n",
              "    <tr>\n",
              "      <th>3</th>\n",
              "      <td>84.300003</td>\n",
              "      <td>17</td>\n",
              "    </tr>\n",
              "    <tr>\n",
              "      <th>4</th>\n",
              "      <td>80.599998</td>\n",
              "      <td>19</td>\n",
              "    </tr>\n",
              "  </tbody>\n",
              "</table>\n",
              "</div>"
            ],
            "text/plain": [
              "           X   Y\n",
              "0  88.599998  19\n",
              "1  71.599998  16\n",
              "2  93.300003  22\n",
              "3  84.300003  17\n",
              "4  80.599998  19"
            ]
          },
          "metadata": {},
          "execution_count": 1
        }
      ]
    },
    {
      "cell_type": "code",
      "metadata": {
        "colab": {
          "base_uri": "https://localhost:8080/"
        },
        "id": "wmnBGqdbEHzJ",
        "outputId": "c7c7dc7f-02ac-4224-f77a-734fecebb5ff"
      },
      "source": [
        "print(df['X'].min())\n",
        "print(df['X'].max())\n",
        "print(df['Y'].min())\n",
        "print(df['Y'].max())\n"
      ],
      "execution_count": 2,
      "outputs": [
        {
          "output_type": "stream",
          "name": "stdout",
          "text": [
            "62.0\n",
            "93.30000305\n",
            "13\n",
            "22\n"
          ]
        }
      ]
    },
    {
      "cell_type": "code",
      "metadata": {
        "colab": {
          "base_uri": "https://localhost:8080/",
          "height": 204
        },
        "id": "ciVDmD8SC-_3",
        "outputId": "17e26e90-6152-4ded-a90f-8a9c455db026"
      },
      "source": [
        "for c in df.columns:\n",
        "  df[c] = (df[c] - df[c].min())/(df[c].max() - df[c].min()) #min-max-normalization\n",
        "df.head()"
      ],
      "execution_count": 3,
      "outputs": [
        {
          "output_type": "execute_result",
          "data": {
            "text/html": [
              "<div>\n",
              "<style scoped>\n",
              "    .dataframe tbody tr th:only-of-type {\n",
              "        vertical-align: middle;\n",
              "    }\n",
              "\n",
              "    .dataframe tbody tr th {\n",
              "        vertical-align: top;\n",
              "    }\n",
              "\n",
              "    .dataframe thead th {\n",
              "        text-align: right;\n",
              "    }\n",
              "</style>\n",
              "<table border=\"1\" class=\"dataframe\">\n",
              "  <thead>\n",
              "    <tr style=\"text-align: right;\">\n",
              "      <th></th>\n",
              "      <th>X</th>\n",
              "      <th>Y</th>\n",
              "    </tr>\n",
              "  </thead>\n",
              "  <tbody>\n",
              "    <tr>\n",
              "      <th>0</th>\n",
              "      <td>0.849840</td>\n",
              "      <td>0.666667</td>\n",
              "    </tr>\n",
              "    <tr>\n",
              "      <th>1</th>\n",
              "      <td>0.306709</td>\n",
              "      <td>0.333333</td>\n",
              "    </tr>\n",
              "    <tr>\n",
              "      <th>2</th>\n",
              "      <td>1.000000</td>\n",
              "      <td>1.000000</td>\n",
              "    </tr>\n",
              "    <tr>\n",
              "      <th>3</th>\n",
              "      <td>0.712460</td>\n",
              "      <td>0.444444</td>\n",
              "    </tr>\n",
              "    <tr>\n",
              "      <th>4</th>\n",
              "      <td>0.594249</td>\n",
              "      <td>0.666667</td>\n",
              "    </tr>\n",
              "  </tbody>\n",
              "</table>\n",
              "</div>"
            ],
            "text/plain": [
              "          X         Y\n",
              "0  0.849840  0.666667\n",
              "1  0.306709  0.333333\n",
              "2  1.000000  1.000000\n",
              "3  0.712460  0.444444\n",
              "4  0.594249  0.666667"
            ]
          },
          "metadata": {},
          "execution_count": 3
        }
      ]
    },
    {
      "cell_type": "code",
      "metadata": {
        "colab": {
          "base_uri": "https://localhost:8080/"
        },
        "id": "1qY8oCTwEl_-",
        "outputId": "2fa29bfa-8eac-44dc-b1fc-66138d7a5378"
      },
      "source": [
        "print(df['X'].min())\n",
        "print(df['X'].max())\n",
        "print(df['Y'].min())\n",
        "print(df['Y'].max())"
      ],
      "execution_count": 4,
      "outputs": [
        {
          "output_type": "stream",
          "name": "stdout",
          "text": [
            "0.0\n",
            "1.0\n",
            "0.0\n",
            "1.0\n"
          ]
        }
      ]
    },
    {
      "cell_type": "code",
      "metadata": {
        "id": "XBSJlCORgJNA"
      },
      "source": [
        "def split_data(df, val_size, test_size):\n",
        "   df = df.sample(frac=1)\n",
        "   n = len(df)\n",
        "   train_size = int((1-val_size-test_size)*n)\n",
        "   val_size = int(n*val_size)  \n",
        "   test_size = int(n*test_size)\n",
        "\n",
        "   return df[:train_size], df[train_size:train_size+val_size], df[train_size+val_size:]"
      ],
      "execution_count": 5,
      "outputs": []
    },
    {
      "cell_type": "code",
      "metadata": {
        "colab": {
          "base_uri": "https://localhost:8080/"
        },
        "id": "J3CKd4TUhDxA",
        "outputId": "51369438-5e24-4ae2-b1bd-bb38e43c272d"
      },
      "source": [
        "train, val, test = split_data(df, 0.2, 0.2)\n",
        "print(train.shape)\n",
        "print(val.shape)\n",
        "print(test.shape)"
      ],
      "execution_count": 6,
      "outputs": [
        {
          "output_type": "stream",
          "name": "stdout",
          "text": [
            "(899, 2)\n",
            "(299, 2)\n",
            "(301, 2)\n"
          ]
        }
      ]
    },
    {
      "cell_type": "code",
      "metadata": {
        "id": "Mf4nukQemMRV"
      },
      "source": [
        "import numpy as np\n"
      ],
      "execution_count": 7,
      "outputs": []
    },
    {
      "cell_type": "code",
      "metadata": {
        "id": "2RPuNgF9l9kT"
      },
      "source": [
        "class simple_linreg:\n",
        "  def __init__(self, lr):\n",
        "    self.w0 = np.random.rand()\n",
        "    self.w1 = np.random.rand()\n",
        "    self.lr = lr\n",
        "    self.train_mse = []\n",
        "\n",
        "  def predict(self,x):\n",
        "    preds = []\n",
        "    for i in x:\n",
        "      preds.append(self.w0+self.w1*i)\n",
        "    return preds\n",
        "  \n",
        "  def learn(self, df, epochs):\n",
        "    x = [i[0] for i in df.values]\n",
        "    y = [i[1] for i in df.values]\n",
        "\n",
        "    for i in range(epochs):\n",
        "      h = self.predict(x)\n",
        "      mse = MSE(y, h)\n",
        "      self.train_mse.append(mse)\n",
        "      print(f\"train MSE at epoch {i} = {mse}\")\n",
        "      temp = 0.0\n",
        "      size = len(df)\n",
        "      for i in range(size):\n",
        "        temp += (h[i] - y[i]) * x[i]\n",
        "      self.w1 -= self.lr*(1/float(size))*temp \n",
        "      temp = 0.0\n",
        "      for i in range(size):\n",
        "        temp += (h[i] - y[i]) * 1\n",
        "      self.w0 -= self.lr*(1/float(size))*temp"
      ],
      "execution_count": 24,
      "outputs": []
    },
    {
      "cell_type": "code",
      "metadata": {
        "id": "i7LatJLmhI8Q"
      },
      "source": [
        "def MSE(actual_y, hyp_y):\n",
        "  s = float(0)\n",
        "  for i in range(len(hyp_y)):\n",
        "    s += (hyp_y[i] - actual_y[i])**2\n",
        "  s /= float(len(hyp_y))\n",
        "  return s"
      ],
      "execution_count": 25,
      "outputs": []
    },
    {
      "cell_type": "code",
      "metadata": {
        "id": "jO8RSxfHhmsf"
      },
      "source": [
        "lr = [0.01, 0.001, 0.3, 1, 0.1]"
      ],
      "execution_count": 26,
      "outputs": []
    },
    {
      "cell_type": "code",
      "metadata": {
        "id": "JEinc_NFFZo6"
      },
      "source": [
        "val_x = [i[0] for i in val.values]\n",
        "val_y = [i[0] for i in val.values]\n",
        "test_x = [i[0] for i in test.values]\n",
        "test_y = [i[0] for i in test.values]"
      ],
      "execution_count": 27,
      "outputs": []
    },
    {
      "cell_type": "code",
      "metadata": {
        "id": "Lgt39T8WAWAA"
      },
      "source": [
        "mses = []\n",
        "for i in lr:\n",
        "  model = simple_linreg(i)\n",
        "  model.learn(train, 100)\n",
        "  val_pred = model.predict(val_x)\n",
        "  mse = MSE(val_y, val_pred)\n",
        "  print(\"===============================\")\n",
        "  print(f\"lr = {i}\\nvalidation MSE = {mse}\\n===================================\")\n",
        "  mses.append(mse)\n",
        "\n",
        "print(mses)\n"
      ],
      "execution_count": null,
      "outputs": []
    },
    {
      "cell_type": "code",
      "metadata": {
        "id": "mfnqGMHSGSAi"
      },
      "source": [
        "# min val MSE for model with lr = 1 with MSE = 0.01270977473927466\n",
        "model = simple_linreg(1)\n",
        "model.learn(train, 100)\n",
        "test_p = model.predict(test_x)\n",
        "mse = MSE(test_y, test_p)\n",
        "print(f\"test MSE = {mse}\")"
      ],
      "execution_count": null,
      "outputs": []
    },
    {
      "cell_type": "code",
      "metadata": {
        "colab": {
          "base_uri": "https://localhost:8080/"
        },
        "id": "CVSd9J8DHPvr",
        "outputId": "2c0cd38f-b0a8-4ba0-f36d-60a98b3c5edb"
      },
      "source": [
        "model1 = simple_linreg(0.1)\n",
        "model1.learn(train, 50)\n",
        "mse_train = model1.train_mse\n",
        "epochs = [i for i in range(0, 50)]"
      ],
      "execution_count": 43,
      "outputs": [
        {
          "output_type": "stream",
          "name": "stdout",
          "text": [
            "train MSE at epoch 0 = 0.07900503301968846\n",
            "train MSE at epoch 1 = 0.06759644340032527\n",
            "train MSE at epoch 2 = 0.05876997718416977\n",
            "train MSE at epoch 3 = 0.05193502283536935\n",
            "train MSE at epoch 4 = 0.04663613414767842\n",
            "train MSE at epoch 5 = 0.042522095891762354\n",
            "train MSE at epoch 6 = 0.03932206920393141\n",
            "train MSE at epoch 7 = 0.03682719642242147\n",
            "train MSE at epoch 8 = 0.03487641590334366\n",
            "train MSE at epoch 9 = 0.033345523305934884\n",
            "train MSE at epoch 10 = 0.03213873634902135\n",
            "train MSE at epoch 11 = 0.031182190085696445\n",
            "train MSE at epoch 12 = 0.03041892087120675\n",
            "train MSE at epoch 13 = 0.029804998316617762\n",
            "train MSE at epoch 14 = 0.029306542496307618\n",
            "train MSE at epoch 15 = 0.028897423807067717\n",
            "train MSE at epoch 16 = 0.02855748924483026\n",
            "train MSE at epoch 17 = 0.02827119462128561\n",
            "train MSE at epoch 18 = 0.02802654981560051\n",
            "train MSE at epoch 19 = 0.027814305418957904\n",
            "train MSE at epoch 20 = 0.02762732552593366\n",
            "train MSE at epoch 21 = 0.027460104070514153\n",
            "train MSE at epoch 22 = 0.027308391854641022\n",
            "train MSE at epoch 23 = 0.027168908935818525\n",
            "train MSE at epoch 24 = 0.027039122838219243\n",
            "train MSE at epoch 25 = 0.026917077522704322\n",
            "train MSE at epoch 26 = 0.02680126149890283\n",
            "train MSE at epoch 27 = 0.02669050612117101\n",
            "train MSE at epoch 28 = 0.02658390716044922\n",
            "train MSE at epoch 29 = 0.02648076432502069\n",
            "train MSE at epoch 30 = 0.02638053462233\n",
            "train MSE at epoch 31 = 0.026282796394154113\n",
            "train MSE at epoch 32 = 0.026187221582389744\n",
            "train MSE at epoch 33 = 0.02609355434177693\n",
            "train MSE at epoch 34 = 0.026001594546980054\n",
            "train MSE at epoch 35 = 0.025911185073893752\n",
            "train MSE at epoch 36 = 0.025822201991393873\n",
            "train MSE at epoch 37 = 0.02573454699744655\n",
            "train MSE at epoch 38 = 0.025648141585926716\n",
            "train MSE at epoch 39 = 0.025562922548054815\n",
            "train MSE at epoch 40 = 0.025478838503011737\n",
            "train MSE at epoch 41 = 0.025395847222194002\n",
            "train MSE at epoch 42 = 0.025313913565479917\n",
            "train MSE at epoch 43 = 0.025233007889442945\n",
            "train MSE at epoch 44 = 0.025153104819504668\n",
            "train MSE at epoch 45 = 0.02507418230274169\n",
            "train MSE at epoch 46 = 0.024996220877116445\n",
            "train MSE at epoch 47 = 0.024919203107605963\n",
            "train MSE at epoch 48 = 0.02484311315103589\n",
            "train MSE at epoch 49 = 0.024767936420167475\n"
          ]
        }
      ]
    },
    {
      "cell_type": "code",
      "metadata": {
        "id": "DKagYl1jH1QG"
      },
      "source": [
        "import matplotlib.pyplot as plt"
      ],
      "execution_count": 44,
      "outputs": []
    },
    {
      "cell_type": "code",
      "metadata": {
        "colab": {
          "base_uri": "https://localhost:8080/",
          "height": 282
        },
        "id": "GVwTm3nHHiQP",
        "outputId": "a4c3c5ab-1769-41be-d008-4c886d27c39e"
      },
      "source": [
        "plt.plot(epochs, mse_train)"
      ],
      "execution_count": 45,
      "outputs": [
        {
          "output_type": "execute_result",
          "data": {
            "text/plain": [
              "[<matplotlib.lines.Line2D at 0x7fb8a63c9a50>]"
            ]
          },
          "metadata": {},
          "execution_count": 45
        },
        {
          "output_type": "display_data",
          "data": {
            "image/png": "[encoded data removed]",
            "text/plain": [
              "<Figure size 432x288 with 1 Axes>"
            ]
          },
          "metadata": {
            "needs_background": "light"
          }
        }
      ]
    },
    {
      "cell_type": "code",
      "metadata": {
        "id": "28XDe6APHz95"
      },
      "source": [
        ""
      ],
      "execution_count": null,
      "outputs": []
    }
  ]
}