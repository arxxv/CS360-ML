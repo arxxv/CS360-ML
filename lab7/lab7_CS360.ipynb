{
  "nbformat": 4,
  "nbformat_minor": 0,
  "metadata": {
    "colab": {
      "name": "lab7_CS360.ipynb",
      "provenance": [],
      "collapsed_sections": []
    },
    "kernelspec": {
      "name": "python3",
      "display_name": "Python 3"
    },
    "language_info": {
      "name": "python"
    }
  },
  "cells": [
    {
      "cell_type": "code",
      "metadata": {
        "id": "M9SfbGZnbQUM"
      },
      "source": [
        "import pandas as pd\n",
        "import numpy as np\n",
        "import matplotlib.pyplot as plt\n",
        "from scipy.special import softmax"
      ],
      "execution_count": null,
      "outputs": []
    },
    {
      "cell_type": "code",
      "metadata": {
        "id": "hkHMvewmds21"
      },
      "source": [
        "from sklearn import datasets\n",
        "iris = datasets.load_iris()"
      ],
      "execution_count": null,
      "outputs": []
    },
    {
      "cell_type": "code",
      "metadata": {
        "colab": {
          "base_uri": "https://localhost:8080/"
        },
        "id": "eX0hQe9GfKRG",
        "outputId": "bd5a2c65-bbb7-48e8-dd00-020a6159ac34"
      },
      "source": [
        "df = pd.DataFrame(iris.data, columns = iris.feature_names)\n",
        "X = df.copy()\n",
        "df['species'] = iris.target\n",
        "y = df.species.copy()\n",
        "\n",
        "\n",
        "for i, j in enumerate(iris.target_names):\n",
        "    print(f\"{i}: {j}\")\n",
        "\n",
        "nclasses = 3"
      ],
      "execution_count": null,
      "outputs": [
        {
          "output_type": "stream",
          "name": "stdout",
          "text": [
            "0: setosa\n",
            "1: versicolor\n",
            "2: virginica\n"
          ]
        }
      ]
    },
    {
      "cell_type": "code",
      "metadata": {
        "colab": {
          "base_uri": "https://localhost:8080/",
          "height": 204
        },
        "id": "3-l1wySZeMhM",
        "outputId": "aed2618b-650c-42aa-b590-6ca9da8687a3"
      },
      "source": [
        "df.head()"
      ],
      "execution_count": null,
      "outputs": [
        {
          "output_type": "execute_result",
          "data": {
            "text/html": [
              "<div>\n",
              "<style scoped>\n",
              "    .dataframe tbody tr th:only-of-type {\n",
              "        vertical-align: middle;\n",
              "    }\n",
              "\n",
              "    .dataframe tbody tr th {\n",
              "        vertical-align: top;\n",
              "    }\n",
              "\n",
              "    .dataframe thead th {\n",
              "        text-align: right;\n",
              "    }\n",
              "</style>\n",
              "<table border=\"1\" class=\"dataframe\">\n",
              "  <thead>\n",
              "    <tr style=\"text-align: right;\">\n",
              "      <th></th>\n",
              "      <th>sepal length (cm)</th>\n",
              "      <th>sepal width (cm)</th>\n",
              "      <th>petal length (cm)</th>\n",
              "      <th>petal width (cm)</th>\n",
              "      <th>species</th>\n",
              "    </tr>\n",
              "  </thead>\n",
              "  <tbody>\n",
              "    <tr>\n",
              "      <th>0</th>\n",
              "      <td>5.1</td>\n",
              "      <td>3.5</td>\n",
              "      <td>1.4</td>\n",
              "      <td>0.2</td>\n",
              "      <td>0</td>\n",
              "    </tr>\n",
              "    <tr>\n",
              "      <th>1</th>\n",
              "      <td>4.9</td>\n",
              "      <td>3.0</td>\n",
              "      <td>1.4</td>\n",
              "      <td>0.2</td>\n",
              "      <td>0</td>\n",
              "    </tr>\n",
              "    <tr>\n",
              "      <th>2</th>\n",
              "      <td>4.7</td>\n",
              "      <td>3.2</td>\n",
              "      <td>1.3</td>\n",
              "      <td>0.2</td>\n",
              "      <td>0</td>\n",
              "    </tr>\n",
              "    <tr>\n",
              "      <th>3</th>\n",
              "      <td>4.6</td>\n",
              "      <td>3.1</td>\n",
              "      <td>1.5</td>\n",
              "      <td>0.2</td>\n",
              "      <td>0</td>\n",
              "    </tr>\n",
              "    <tr>\n",
              "      <th>4</th>\n",
              "      <td>5.0</td>\n",
              "      <td>3.6</td>\n",
              "      <td>1.4</td>\n",
              "      <td>0.2</td>\n",
              "      <td>0</td>\n",
              "    </tr>\n",
              "  </tbody>\n",
              "</table>\n",
              "</div>"
            ],
            "text/plain": [
              "   sepal length (cm)  sepal width (cm)  ...  petal width (cm)  species\n",
              "0                5.1               3.5  ...               0.2        0\n",
              "1                4.9               3.0  ...               0.2        0\n",
              "2                4.7               3.2  ...               0.2        0\n",
              "3                4.6               3.1  ...               0.2        0\n",
              "4                5.0               3.6  ...               0.2        0\n",
              "\n",
              "[5 rows x 5 columns]"
            ]
          },
          "metadata": {},
          "execution_count": 14
        }
      ]
    },
    {
      "cell_type": "code",
      "metadata": {
        "id": "ngfzkHn3fQtP"
      },
      "source": [
        "from sklearn.model_selection import train_test_split\n",
        "X_train, X_test, y_train, y_test = train_test_split(X, y, test_size=0.2, random_state=1)\n",
        "X_train, X_val, y_train, y_val = train_test_split(X_train, y_train, test_size=0.25, random_state=1) "
      ],
      "execution_count": null,
      "outputs": []
    },
    {
      "cell_type": "code",
      "metadata": {
        "id": "99JAkm6dehEr"
      },
      "source": [
        "from sklearn.preprocessing import StandardScaler\n",
        "sc = StandardScaler()\n",
        "X_train = sc.fit_transform(X_train)\n",
        "X_val = sc.transform(X_val)\n",
        "X_test = sc.transform(X_test)"
      ],
      "execution_count": null,
      "outputs": []
    },
    {
      "cell_type": "code",
      "metadata": {
        "id": "MhLh6y4zwvZu"
      },
      "source": [
        "from sklearn.preprocessing import OneHotEncoder\n",
        "ohe = OneHotEncoder()"
      ],
      "execution_count": null,
      "outputs": []
    },
    {
      "cell_type": "code",
      "metadata": {
        "id": "W1V6_pWlzUhl"
      },
      "source": [
        "def accuracy(y, h):\n",
        "    return np.sum(y == h)/len(y)*100"
      ],
      "execution_count": null,
      "outputs": []
    },
    {
      "cell_type": "code",
      "metadata": {
        "id": "dnwGpj2afESn"
      },
      "source": [
        "class MultiClassLogReg:    \n",
        "    def fit(self, X, y, nepochs=1000, lr=0.1):\n",
        "        nepochs = int(nepochs)\n",
        "        onehot_encoder = OneHotEncoder(sparse=False)\n",
        "        y_oh = onehot_encoder.fit_transform(y.reshape(-1,1))\n",
        "        self.W = np.zeros((X.shape[1], y_oh.shape[1]))\n",
        "        self.B = 0\n",
        "        epochs = [i for i in range(nepochs)] \n",
        "        losses = []\n",
        "        W_lst = []\n",
        "    \n",
        "        for _ in range(nepochs):\n",
        "            z = - (np.dot(X, self.W) + self.B)\n",
        "            h = softmax(z, axis=1)\n",
        "            N = X.shape[0]\n",
        "            dw = 1/N * (np.dot(X.T,(y_oh - h)))\n",
        "            db = 1/N * np.sum(y_oh - h)\n",
        "            self.W -= lr * dw\n",
        "            self.B -= lr * db\n",
        "            W_lst.append(self.W)\n",
        "            losses.append(self.loss(X, y_oh))\n",
        "\n",
        "        self.loss_helper = {'epochs': epochs, 'loss': losses}\n",
        "\n",
        "    def loss(self, X, y):\n",
        "        z = - (np.dot(X, self.W) + self.B)\n",
        "        N = X.shape[0]\n",
        "        loss = 1/N * (np.trace(np.dot(X, np.dot(self.W, y.T))) + np.sum(np.log(np.sum(np.exp(z), axis=1))))\n",
        "        return loss\n",
        "\n",
        "    def predict(self, X):\n",
        "        z = - (np.dot(X, self.W) + self.B)\n",
        "        h = softmax(z, axis=1)\n",
        "        return np.argmax(h, axis=1)\n"
      ],
      "execution_count": null,
      "outputs": []
    },
    {
      "cell_type": "code",
      "metadata": {
        "id": "MxeHR1_c-wv8",
        "colab": {
          "base_uri": "https://localhost:8080/",
          "height": 282
        },
        "outputId": "110c12e0-a0cc-4233-df73-2811ac925f6c"
      },
      "source": [
        "model = MultiClassLogReg()\n",
        "model.fit(np.asarray(X_train), np.asarray(y_train), 500, 0.1)\n",
        "plot = model.loss_helper\n",
        "plt.plot(plot['epochs'], plot['loss'])"
      ],
      "execution_count": null,
      "outputs": [
        {
          "output_type": "execute_result",
          "data": {
            "text/plain": [
              "[<matplotlib.lines.Line2D at 0x7fe096a33fd0>]"
            ]
          },
          "metadata": {},
          "execution_count": 19
        },
        {
          "output_type": "display_data",
          "data": {
            "image/png": "[encoded data removed]",
            "text/plain": [
              "<Figure size 432x288 with 1 Axes>"
            ]
          },
          "metadata": {
            "needs_background": "light"
          }
        }
      ]
    },
    {
      "cell_type": "code",
      "metadata": {
        "id": "9X3kU6sHtIiB"
      },
      "source": [
        "hyperparams = {\n",
        "    'lr': [0.1, 0.01, 0.02, 0.03, 0.001],\n",
        "    'epochs': [100, 500, 1000, 1200, 5000]\n",
        "}"
      ],
      "execution_count": null,
      "outputs": []
    },
    {
      "cell_type": "code",
      "metadata": {
        "id": "zwslwsxDyiZj",
        "colab": {
          "base_uri": "https://localhost:8080/",
          "height": 1000
        },
        "outputId": "dc93e79c-486f-46f6-bc15-84340c6f4723"
      },
      "source": [
        "mses = []\n",
        "for i in range(len(hyperparams['lr'])):\n",
        "    model.fit(np.asarray(X_train), np.asarray(y_train), hyperparams['epochs'][i], hyperparams['lr'][i])\n",
        "    plot = model.loss_helper\n",
        "    plt.plot(plot['epochs'], plot['loss'])\n",
        "    plt.show()\n",
        "    val_p = model.predict(np.asarray(X_val))\n",
        "    acc = accuracy(np.asarray(y_val), (val_p))\n",
        "    print(f\"lr={hyperparams['lr'][i]}, {hyperparams['epochs'][i]} epochs, acc = {acc}\")"
      ],
      "execution_count": null,
      "outputs": [
        {
          "output_type": "display_data",
          "data": {
            "image/png": "[encoded data removed]",
            "text/plain": [
              "<Figure size 432x288 with 1 Axes>"
            ]
          },
          "metadata": {
            "needs_background": "light"
          }
        },
        {
          "output_type": "stream",
          "name": "stdout",
          "text": [
            "lr=0.1, 100 epochs, acc = 96.66666666666667\n"
          ]
        },
        {
          "output_type": "display_data",
          "data": {
            "image/png": "[encoded data removed]",
            "text/plain": [
              "<Figure size 432x288 with 1 Axes>"
            ]
          },
          "metadata": {
            "needs_background": "light"
          }
        },
        {
          "output_type": "stream",
          "name": "stdout",
          "text": [
            "lr=0.01, 500 epochs, acc = 93.33333333333333\n"
          ]
        },
        {
          "output_type": "display_data",
          "data": {
            "image/png": "[encoded data removed]",
            "text/plain": [
              "<Figure size 432x288 with 1 Axes>"
            ]
          },
          "metadata": {
            "needs_background": "light"
          }
        },
        {
          "output_type": "stream",
          "name": "stdout",
          "text": [
            "lr=0.02, 1000 epochs, acc = 100.0\n"
          ]
        },
        {
          "output_type": "display_data",
          "data": {
            "image/png": "[encoded data removed]",
            "text/plain": [
              "<Figure size 432x288 with 1 Axes>"
            ]
          },
          "metadata": {
            "needs_background": "light"
          }
        },
        {
          "output_type": "stream",
          "name": "stdout",
          "text": [
            "lr=0.03, 1200 epochs, acc = 100.0\n"
          ]
        },
        {
          "output_type": "display_data",
          "data": {
            "image/png": "[encoded data removed]",
            "text/plain": [
              "<Figure size 432x288 with 1 Axes>"
            ]
          },
          "metadata": {
            "needs_background": "light"
          }
        },
        {
          "output_type": "stream",
          "name": "stdout",
          "text": [
            "lr=0.001, 5000 epochs, acc = 93.33333333333333\n"
          ]
        }
      ]
    },
    {
      "cell_type": "code",
      "metadata": {
        "colab": {
          "base_uri": "https://localhost:8080/",
          "height": 282
        },
        "id": "sWeO--QrzhTL",
        "outputId": "a1b70206-54fb-4a91-f8d2-f72d297f9bfc"
      },
      "source": [
        "# selecting lr=0.02, 1000 epochs, acc = 100.0\n",
        "\n",
        "model.fit(np.asarray(X_train), np.asarray(y_train), 1000, 0.02)\n",
        "plot = model.loss_helper\n",
        "plt.plot(plot['epochs'], plot['loss'])\n",
        "plt.show()\n",
        "acc = accuracy(np.asarray(y_val), (val_p))\n",
        "print(acc)\n"
      ],
      "execution_count": null,
      "outputs": [
        {
          "output_type": "display_data",
          "data": {
            "image/png": "[encoded data removed]",
            "text/plain": [
              "<Figure size 432x288 with 1 Axes>"
            ]
          },
          "metadata": {
            "needs_background": "light"
          }
        },
        {
          "output_type": "stream",
          "name": "stdout",
          "text": [
            "93.33333333333333\n"
          ]
        }
      ]
    },
    {
      "cell_type": "code",
      "metadata": {
        "id": "ZPNxWRkSEIj0"
      },
      "source": [
        "valsize = [0.25, 0.1, 0.5, 0.8]\n",
        "for i in valsize:\n",
        "     "
      ],
      "execution_count": null,
      "outputs": []
    }
  ]
}