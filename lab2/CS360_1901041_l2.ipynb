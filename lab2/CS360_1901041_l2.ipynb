{
  "nbformat": 4,
  "nbformat_minor": 0,
  "metadata": {
    "colab": {
      "name": "1901041_l2.ipynb",
      "provenance": [],
      "collapsed_sections": []
    },
    "kernelspec": {
      "name": "python3",
      "display_name": "Python 3"
    },
    "language_info": {
      "name": "python"
    }
  },
  "cells": [
    {
      "cell_type": "code",
      "metadata": {
        "id": "NOFF7ZPPMEAI"
      },
      "source": [
        "import pandas as pd\n",
        "import numpy as np"
      ],
      "execution_count": 1,
      "outputs": []
    },
    {
      "cell_type": "code",
      "metadata": {
        "colab": {
          "base_uri": "https://localhost:8080/"
        },
        "id": "i93rDpLLM9dc",
        "outputId": "7ec7224a-5914-433d-c597-07944f42539e"
      },
      "source": [
        "from google.colab import drive\n",
        "drive.mount('/content/drive')\n",
        "path = '/content/drive/MyDrive/Datasets/CS360/2.salary_data.csv'\n",
        "salary_data = pd.read_csv(path)"
      ],
      "execution_count": 2,
      "outputs": [
        {
          "output_type": "stream",
          "text": [
            "Drive already mounted at /content/drive; to attempt to forcibly remount, call drive.mount(\"/content/drive\", force_remount=True).\n"
          ],
          "name": "stdout"
        }
      ]
    },
    {
      "cell_type": "code",
      "metadata": {
        "colab": {
          "base_uri": "https://localhost:8080/",
          "height": 204
        },
        "id": "Ko2qPqWDNPHq",
        "outputId": "cf2b0c10-ff85-431f-ac5e-e4a6a9d64c2d"
      },
      "source": [
        "salary_data.head()"
      ],
      "execution_count": 3,
      "outputs": [
        {
          "output_type": "execute_result",
          "data": {
            "text/html": [
              "<div>\n",
              "<style scoped>\n",
              "    .dataframe tbody tr th:only-of-type {\n",
              "        vertical-align: middle;\n",
              "    }\n",
              "\n",
              "    .dataframe tbody tr th {\n",
              "        vertical-align: top;\n",
              "    }\n",
              "\n",
              "    .dataframe thead th {\n",
              "        text-align: right;\n",
              "    }\n",
              "</style>\n",
              "<table border=\"1\" class=\"dataframe\">\n",
              "  <thead>\n",
              "    <tr style=\"text-align: right;\">\n",
              "      <th></th>\n",
              "      <th>YearsExperience</th>\n",
              "      <th>Salary</th>\n",
              "    </tr>\n",
              "  </thead>\n",
              "  <tbody>\n",
              "    <tr>\n",
              "      <th>0</th>\n",
              "      <td>1.1</td>\n",
              "      <td>39343</td>\n",
              "    </tr>\n",
              "    <tr>\n",
              "      <th>1</th>\n",
              "      <td>1.3</td>\n",
              "      <td>46205</td>\n",
              "    </tr>\n",
              "    <tr>\n",
              "      <th>2</th>\n",
              "      <td>1.5</td>\n",
              "      <td>37731</td>\n",
              "    </tr>\n",
              "    <tr>\n",
              "      <th>3</th>\n",
              "      <td>2.0</td>\n",
              "      <td>43525</td>\n",
              "    </tr>\n",
              "    <tr>\n",
              "      <th>4</th>\n",
              "      <td>2.2</td>\n",
              "      <td>39891</td>\n",
              "    </tr>\n",
              "  </tbody>\n",
              "</table>\n",
              "</div>"
            ],
            "text/plain": [
              "   YearsExperience  Salary\n",
              "0              1.1   39343\n",
              "1              1.3   46205\n",
              "2              1.5   37731\n",
              "3              2.0   43525\n",
              "4              2.2   39891"
            ]
          },
          "metadata": {
            "tags": []
          },
          "execution_count": 3
        }
      ]
    },
    {
      "cell_type": "markdown",
      "metadata": {
        "id": "tyUGCpLzRzxq"
      },
      "source": [
        "# 1"
      ]
    },
    {
      "cell_type": "code",
      "metadata": {
        "colab": {
          "base_uri": "https://localhost:8080/"
        },
        "id": "iK1m6TbPNRmo",
        "outputId": "1e156b77-6cba-4fc3-a89b-80894df4d959"
      },
      "source": [
        "print(f\"Shape of the DF = {salary_data.shape}\")\n",
        "print(f\"No. of features = {salary_data.shape[1]}\")\n",
        "print(f\"No. of patterns = {salary_data.shape[0]}\")\n",
        "print(f\"Range of salary : {salary_data.Salary.min()} to {salary_data.Salary.max()}\")"
      ],
      "execution_count": 4,
      "outputs": [
        {
          "output_type": "stream",
          "text": [
            "Shape of the DF = (30, 2)\n",
            "No. of features = 2\n",
            "No. of patterns = 30\n",
            "Range of salary : 37731 to 122391\n"
          ],
          "name": "stdout"
        }
      ]
    },
    {
      "cell_type": "markdown",
      "metadata": {
        "id": "G3zSCm99R13r"
      },
      "source": [
        "# 2"
      ]
    },
    {
      "cell_type": "code",
      "metadata": {
        "colab": {
          "base_uri": "https://localhost:8080/"
        },
        "id": "weSvzIW3REzb",
        "outputId": "181963d9-2dc8-4d02-fb4d-bcec96b10b1c"
      },
      "source": [
        "from sklearn.model_selection import train_test_split\n",
        "\n",
        "print(\"a:\")\n",
        "for ratioX in range(10, 91, 10):\n",
        "  train, test = train_test_split(salary_data, test_size=1-ratioX/100)\n",
        "  print(f\"train shape = {train.shape}, test shape = {test.shape}\")\n",
        "\n",
        "print(\"\\nb:\")\n",
        "for ratioY in range(90, 9, -10):\n",
        "  train, test = train_test_split(salary_data, test_size=ratioY/100)\n",
        "  print(f\"train shape = {train.shape}, test shape = {test.shape}\")"
      ],
      "execution_count": 5,
      "outputs": [
        {
          "output_type": "stream",
          "text": [
            "a:\n",
            "train shape = (3, 2), test shape = (27, 2)\n",
            "train shape = (6, 2), test shape = (24, 2)\n",
            "train shape = (9, 2), test shape = (21, 2)\n",
            "train shape = (12, 2), test shape = (18, 2)\n",
            "train shape = (15, 2), test shape = (15, 2)\n",
            "train shape = (18, 2), test shape = (12, 2)\n",
            "train shape = (20, 2), test shape = (10, 2)\n",
            "train shape = (24, 2), test shape = (6, 2)\n",
            "train shape = (27, 2), test shape = (3, 2)\n",
            "\n",
            "b:\n",
            "train shape = (3, 2), test shape = (27, 2)\n",
            "train shape = (6, 2), test shape = (24, 2)\n",
            "train shape = (9, 2), test shape = (21, 2)\n",
            "train shape = (12, 2), test shape = (18, 2)\n",
            "train shape = (15, 2), test shape = (15, 2)\n",
            "train shape = (18, 2), test shape = (12, 2)\n",
            "train shape = (21, 2), test shape = (9, 2)\n",
            "train shape = (24, 2), test shape = (6, 2)\n",
            "train shape = (27, 2), test shape = (3, 2)\n"
          ],
          "name": "stdout"
        }
      ]
    },
    {
      "cell_type": "markdown",
      "metadata": {
        "id": "-Xf-GtCTUi8z"
      },
      "source": [
        "# 3"
      ]
    },
    {
      "cell_type": "code",
      "metadata": {
        "colab": {
          "base_uri": "https://localhost:8080/"
        },
        "id": "hZOFglyyT7go",
        "outputId": "0bd63804-d185-4b23-8b07-12298077ae9c"
      },
      "source": [
        "columnwise_mean = salary_data.mean(axis=0)\n",
        "rowwise_mean = salary_data.mean(axis=1)\n",
        "print('row wise:')\n",
        "print(rowwise_mean)\n",
        "print('\\ncolumnwise wise:')\n",
        "print(columnwise_mean)\n",
        "print(f'\\nOverall mean = {salary_data.mean().mean()}')\n",
        "print(f'Overall median = {salary_data.median().median()}')\n",
        "print(f'Overall std = {salary_data.stack().std()}')\n",
        "mode = salary_data.mode().mode()"
      ],
      "execution_count": 6,
      "outputs": [
        {
          "output_type": "stream",
          "text": [
            "row wise:\n",
            "0     19672.05\n",
            "1     23103.15\n",
            "2     18866.25\n",
            "3     21763.50\n",
            "4     19946.60\n",
            "5     28322.45\n",
            "6     30076.50\n",
            "7     27224.10\n",
            "8     32224.10\n",
            "9     28596.35\n",
            "10    31610.95\n",
            "11    27899.00\n",
            "12    28480.50\n",
            "13    28542.55\n",
            "14    30557.75\n",
            "15    33971.45\n",
            "16    33017.05\n",
            "17    41546.65\n",
            "18    40684.45\n",
            "19    46973.00\n",
            "20    45872.40\n",
            "21    49140.05\n",
            "22    50654.95\n",
            "23    56910.10\n",
            "24    54719.85\n",
            "25    52795.50\n",
            "26    58489.25\n",
            "27    56322.30\n",
            "28    61200.65\n",
            "29    60941.25\n",
            "dtype: float64\n",
            "\n",
            "columnwise wise:\n",
            "YearsExperience        5.313333\n",
            "Salary             76003.000000\n",
            "dtype: float64\n",
            "\n",
            "Overall mean = 38004.15666666667\n",
            "Overall median = 32620.85\n",
            "Overall std = 42869.47152988138\n"
          ],
          "name": "stdout"
        }
      ]
    },
    {
      "cell_type": "markdown",
      "metadata": {
        "id": "CMHc1UZHbCSt"
      },
      "source": [
        "# 4"
      ]
    },
    {
      "cell_type": "code",
      "metadata": {
        "id": "VeRO3IWEU3st"
      },
      "source": [
        "# X = salary_data['YearsExperience']\n",
        "# y = salary_data['Salary']\n",
        "X = salary_data.iloc[:,0].values\n",
        "y = salary_data.iloc[:,1].values"
      ],
      "execution_count": 7,
      "outputs": []
    },
    {
      "cell_type": "code",
      "metadata": {
        "id": "DyEuGlF2a-oO"
      },
      "source": [
        "def sum_sq_error(y, y_hat):\n",
        "  sum = 0\n",
        "  for i in range(len(y)):\n",
        "    sum += (y[i] - model_pred[i])**2\n",
        "  return sum"
      ],
      "execution_count": 9,
      "outputs": []
    },
    {
      "cell_type": "code",
      "metadata": {
        "colab": {
          "base_uri": "https://localhost:8080/"
        },
        "id": "jqJfizFWYPxV",
        "outputId": "e0f71726-7b45-4f9c-9cf5-4bf3f0732aaf"
      },
      "source": [
        "# degree 2\n",
        "from sklearn.linear_model import LinearRegression\n",
        "from sklearn.preprocessing import PolynomialFeatures\n",
        "\n",
        "poly_features = PolynomialFeatures(degree=2)\n",
        "X_poly = poly_features.fit_transform(X.reshape(-1, 1))\n",
        "\n",
        "model = LinearRegression()\n",
        "model.fit(X_poly, y)\n",
        "model_pred = model.predict(X_poly)\n",
        "\n",
        "sse = sum_sq_error(y, model_pred)\n",
        "print(sse)"
      ],
      "execution_count": 10,
      "outputs": [
        {
          "output_type": "stream",
          "text": [
            "937725253.5284165\n"
          ],
          "name": "stdout"
        }
      ]
    },
    {
      "cell_type": "code",
      "metadata": {
        "colab": {
          "base_uri": "https://localhost:8080/"
        },
        "id": "PTvHhqYekjnq",
        "outputId": "8aa83a52-307f-4f24-a00f-a8e5c6b6264b"
      },
      "source": [
        "# degree 3\n",
        "poly_features = PolynomialFeatures(degree=3)\n",
        "X_poly = poly_features.fit_transform(X.reshape(-1, 1))\n",
        "\n",
        "model = LinearRegression()\n",
        "model.fit(X_poly, y)\n",
        "model_pred = model.predict(X_poly)\n",
        "\n",
        "sse = sum_sq_error(y, model_pred)\n",
        "print(sse)"
      ],
      "execution_count": 11,
      "outputs": [
        {
          "output_type": "stream",
          "text": [
            "793403088.2051331\n"
          ],
          "name": "stdout"
        }
      ]
    }
  ]
}