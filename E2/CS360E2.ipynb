{
  "nbformat": 4,
  "nbformat_minor": 0,
  "metadata": {
    "colab": {
      "name": "CS360E2.ipynb",
      "provenance": [],
      "collapsed_sections": []
    },
    "kernelspec": {
      "name": "python3",
      "display_name": "Python 3"
    },
    "language_info": {
      "name": "python"
    }
  },
  "cells": [
    {
      "cell_type": "code",
      "metadata": {
        "id": "WqU9TsFer91j"
      },
      "source": [
        "import pandas as pd\n",
        "import numpy as np\n",
        "from sklearn import datasets\n",
        "import matplotlib.pyplot as plt\n",
        "from sklearn.preprocessing import OneHotEncoder\n",
        "from sklearn.metrics import confusion_matrix\n",
        "from scipy.special import softmax\n",
        "from random import randrange\n",
        "from sklearn.model_selection import KFold\n",
        "from sklearn.preprocessing import StandardScaler\n",
        "from sklearn.model_selection import train_test_split"
      ],
      "execution_count": null,
      "outputs": []
    },
    {
      "cell_type": "code",
      "metadata": {
        "id": "063sfNrHuMed"
      },
      "source": [
        "sc = StandardScaler()"
      ],
      "execution_count": null,
      "outputs": []
    },
    {
      "cell_type": "code",
      "metadata": {
        "id": "ohHSYYgTsNND"
      },
      "source": [
        "iris = datasets.load_iris()\n",
        "df = pd.DataFrame(sc.fit_transform(iris.data), columns=iris.feature_names)\n",
        "df['target'] = iris.target\n",
        "X = df.copy()\n",
        "y = df.drop('target', axis=1)\n",
        "targets = iris.target_names\n",
        "nclasses = 3\n",
        "nfeatures = len(iris.feature_names)\n",
        "iris.feature_names.append('tar')\n",
        "feature_names = iris.feature_names"
      ],
      "execution_count": null,
      "outputs": []
    },
    {
      "cell_type": "code",
      "metadata": {
        "id": "ytaNoOgjuKUx"
      },
      "source": [
        "train, test = train_test_split(df, test_size=0.3)"
      ],
      "execution_count": null,
      "outputs": []
    },
    {
      "cell_type": "code",
      "metadata": {
        "colab": {
          "base_uri": "https://localhost:8080/"
        },
        "id": "FVzNbB2Surf9",
        "outputId": "f8616204-e533-47f9-ea7c-ea3a24055979"
      },
      "source": [
        "train.shape"
      ],
      "execution_count": null,
      "outputs": [
        {
          "output_type": "execute_result",
          "data": {
            "text/plain": [
              "(105, 5)"
            ]
          },
          "metadata": {},
          "execution_count": 33
        }
      ]
    },
    {
      "cell_type": "code",
      "metadata": {
        "colab": {
          "base_uri": "https://localhost:8080/"
        },
        "id": "daZ1kKACvg00",
        "outputId": "e0e62e5c-9d48-4760-abc1-6d660d72e464"
      },
      "source": [
        "test.shape"
      ],
      "execution_count": null,
      "outputs": [
        {
          "output_type": "execute_result",
          "data": {
            "text/plain": [
              "(45, 5)"
            ]
          },
          "metadata": {},
          "execution_count": 34
        }
      ]
    },
    {
      "cell_type": "code",
      "metadata": {
        "id": "gPeyoenpvhN2"
      },
      "source": [
        "class MultiClassLogReg:    \n",
        "    def fit(self, X, y, nepochs=1000, lr=0.1):\n",
        "        nepochs = int(nepochs)\n",
        "        onehot_encoder = OneHotEncoder(sparse=False)\n",
        "        y_oh = onehot_encoder.fit_transform(y.reshape(-1,1))\n",
        "        self.W = np.zeros((X.shape[1], y_oh.shape[1]))\n",
        "        self.B = 0\n",
        "        epochs = [i for i in range(nepochs)] \n",
        "        losses = []\n",
        "        W_lst = []\n",
        "    \n",
        "        for _ in range(nepochs):\n",
        "            z = - (np.dot(X, self.W) + self.B)\n",
        "            h = softmax(z, axis=1)\n",
        "            N = X.shape[0]\n",
        "            dw = 1/N * (np.dot(X.T,(y_oh - h)))\n",
        "            db = 1/N * np.sum(y_oh - h)\n",
        "            self.W -= lr * dw\n",
        "            self.B -= lr * db\n",
        "            W_lst.append(self.W)\n",
        "            losses.append(self.loss(X, y_oh))\n",
        "\n",
        "        self.loss_helper = {'epochs': epochs, 'loss': losses}\n",
        "\n",
        "    def loss(self, X, y):\n",
        "        z = - (np.dot(X, self.W) + self.B)\n",
        "        N = X.shape[0]\n",
        "        loss = 1/N * (np.trace(np.dot(X, np.dot(self.W, y.T))) + np.sum(np.log(np.sum(np.exp(z), axis=1))))\n",
        "        return loss\n",
        "\n",
        "    def predict(self, X):\n",
        "        z = - (np.dot(X, self.W) + self.B)\n",
        "        h = softmax(z, axis=1)\n",
        "        return np.argmax(h, axis=1)"
      ],
      "execution_count": null,
      "outputs": []
    },
    {
      "cell_type": "code",
      "metadata": {
        "id": "pjvgjp7Ivt_L"
      },
      "source": [
        "def accuracy(y, h):\n",
        "    return np.sum(y == h)/len(y)*100"
      ],
      "execution_count": null,
      "outputs": []
    },
    {
      "cell_type": "code",
      "metadata": {
        "id": "vEGWvG1gvwXb"
      },
      "source": [
        "kf = KFold(n_splits=5, shuffle=True)"
      ],
      "execution_count": null,
      "outputs": []
    },
    {
      "cell_type": "code",
      "metadata": {
        "id": "-xF0qoBK5QNh"
      },
      "source": [
        "df = df.sample(frac=1)"
      ],
      "execution_count": null,
      "outputs": []
    },
    {
      "cell_type": "code",
      "metadata": {
        "id": "hvH48L1kxW4J"
      },
      "source": [
        "X = df.drop('target', axis=1)\n",
        "y = df['target']"
      ],
      "execution_count": null,
      "outputs": []
    },
    {
      "cell_type": "code",
      "metadata": {
        "colab": {
          "base_uri": "https://localhost:8080/"
        },
        "id": "LHyGl28g5NV-",
        "outputId": "a672682c-e00c-4c0a-c638-7be670462ae8"
      },
      "source": [
        "y"
      ],
      "execution_count": null,
      "outputs": [
        {
          "output_type": "execute_result",
          "data": {
            "text/plain": [
              "93     1\n",
              "141    2\n",
              "29     0\n",
              "79     1\n",
              "31     0\n",
              "      ..\n",
              "112    2\n",
              "88     1\n",
              "147    2\n",
              "72     1\n",
              "25     0\n",
              "Name: target, Length: 150, dtype: int64"
            ]
          },
          "metadata": {},
          "execution_count": 132
        }
      ]
    },
    {
      "cell_type": "code",
      "metadata": {
        "id": "ht8SMyFpwFzJ"
      },
      "source": [
        "folds = kf.split(X)"
      ],
      "execution_count": null,
      "outputs": []
    },
    {
      "cell_type": "code",
      "metadata": {
        "id": "-Y9qfL4P2XNU"
      },
      "source": [
        "features = df.columns"
      ],
      "execution_count": null,
      "outputs": []
    },
    {
      "cell_type": "code",
      "metadata": {
        "id": "WeccYls12eDO"
      },
      "source": [
        "model = MultiClassLogReg()"
      ],
      "execution_count": null,
      "outputs": []
    },
    {
      "cell_type": "code",
      "metadata": {
        "id": "Yh79YO9c3RSp"
      },
      "source": [
        "accs = []\n",
        "cms = []\n",
        "recalls = []\n",
        "precisions = []\n",
        "per_class = []"
      ],
      "execution_count": null,
      "outputs": []
    },
    {
      "cell_type": "code",
      "metadata": {
        "id": "gCq60p0TwOuL"
      },
      "source": [
        "i = 1\n",
        "for train_index, val_index in kf.split(df):\n",
        "    X_train = df.iloc[train_index].loc[:, features]\n",
        "    X_val = df.iloc[val_index][features]\n",
        "    y_train = df.iloc[train_index].loc[:,'target']\n",
        "    y_val = df.loc[val_index]['target']\n",
        "\n",
        "    model.fit(np.asarray(X_train), np.asarray(y_train), 2000, 0.01)\n",
        "    hval = model.predict(np.asarray(X_val))\n",
        "\n",
        "    cm = confusion_matrix(y_val, hval)\n",
        "    \n",
        "    cms.append(cm)"
      ],
      "execution_count": null,
      "outputs": []
    },
    {
      "cell_type": "code",
      "metadata": {
        "id": "zYUPT0qs7i6B"
      },
      "source": [
        "for i in range(5):\n",
        "    precisions.append(np.diag(cms[i]) / np.sum(cms[i], axis = 0))\n",
        "    recalls.append(np.diag(cms[i]) / np.sum(cms[i], axis = 1))\n",
        "    per_class.append(cms[i].diagonal()/cms[i].sum(axis=1).mean(axis=0))\n",
        "    accs.append(np.trace(cms[i])/np.sum(cms[i])*100)"
      ],
      "execution_count": null,
      "outputs": []
    },
    {
      "cell_type": "code",
      "metadata": {
        "id": "yxau3KBY75iH"
      },
      "source": [
        "precisions = np.asarray(precisions).mean(axis=0)\n",
        "recalls = np.asarray(recalls).mean(axis=0)\n",
        "per_class = np.asarray(per_class).mean(axis=0)"
      ],
      "execution_count": null,
      "outputs": []
    },
    {
      "cell_type": "code",
      "metadata": {
        "colab": {
          "base_uri": "https://localhost:8080/"
        },
        "id": "1-9fQQ7j3zPZ",
        "outputId": "eed31a19-2967-4d12-8c40-22ee452a96ca"
      },
      "source": [
        "print(accs)\n",
        "print(recalls)\n",
        "print(per_class)\n",
        "print(precisions)"
      ],
      "execution_count": null,
      "outputs": [
        {
          "output_type": "stream",
          "name": "stdout",
          "text": [
            "[26.666666666666668, 46.666666666666664, 46.666666666666664, 26.666666666666668, 20.0]\n",
            "[0.38357143 0.13852941 0.50904762]\n",
            "[0.34 0.14 0.52]\n",
            "[0.32821678 0.2230303  0.36289279]\n"
          ]
        }
      ]
    },
    {
      "cell_type": "code",
      "metadata": {
        "colab": {
          "base_uri": "https://localhost:8080/"
        },
        "id": "NoR5lc7k8ROp",
        "outputId": "1efcd0f0-c9ae-4fd7-e632-ed70f7095235"
      },
      "source": [
        "for i in range(len(accs)):\n",
        "    print(\"fold\",i,\":\",accs[i])"
      ],
      "execution_count": null,
      "outputs": [
        {
          "output_type": "stream",
          "name": "stdout",
          "text": [
            "fold 0 : 26.666666666666668\n",
            "fold 1 : 46.666666666666664\n",
            "fold 2 : 46.666666666666664\n",
            "fold 3 : 26.666666666666668\n",
            "fold 4 : 20.0\n"
          ]
        }
      ]
    },
    {
      "cell_type": "code",
      "metadata": {
        "colab": {
          "base_uri": "https://localhost:8080/"
        },
        "id": "xxuaiHxv_Wjd",
        "outputId": "65fd62fe-40d6-4739-ce1a-5ff378dd972e"
      },
      "source": [
        "print(\"precision\")\n",
        "for i in range(3):\n",
        "    print(targets[i], precisions[i])\n",
        "print(\"recalls\")\n",
        "for i in range(3):\n",
        "    print(targets[i], precisions[i])\n",
        "print(\"per class accuracy\")\n",
        "for i in range(3):\n",
        "    print(targets[i], precisions[i])"
      ],
      "execution_count": null,
      "outputs": [
        {
          "output_type": "stream",
          "name": "stdout",
          "text": [
            "precision\n",
            "setosa 0.3282167832167832\n",
            "versicolor 0.22303030303030305\n",
            "virginica 0.36289279348102876\n",
            "recalls\n",
            "setosa 0.3282167832167832\n",
            "versicolor 0.22303030303030305\n",
            "virginica 0.36289279348102876\n",
            "per class accuracy\n",
            "setosa 0.3282167832167832\n",
            "versicolor 0.22303030303030305\n",
            "virginica 0.36289279348102876\n"
          ]
        }
      ]
    },
    {
      "cell_type": "code",
      "metadata": {
        "id": "n7L-UwJ6_nyc"
      },
      "source": [
        ""
      ],
      "execution_count": null,
      "outputs": []
    }
  ]
}