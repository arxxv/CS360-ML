{
  "nbformat": 4,
  "nbformat_minor": 0,
  "metadata": {
    "colab": {
      "name": "CS360_1901041_L3.ipynb",
      "provenance": []
    },
    "kernelspec": {
      "name": "python3",
      "display_name": "Python 3"
    },
    "language_info": {
      "name": "python"
    }
  },
  "cells": [
    {
      "cell_type": "code",
      "metadata": {
        "id": "s4pO1QvOZPd1",
        "outputId": "88e991d7-8590-46d0-f4e3-c8832c626843",
        "colab": {
          "base_uri": "https://localhost:8080/"
        }
      },
      "source": [
        "from google.colab import drive\n",
        "drive.mount('/content/drive')"
      ],
      "execution_count": 1,
      "outputs": [
        {
          "output_type": "stream",
          "text": [
            "Drive already mounted at /content/drive; to attempt to forcibly remount, call drive.mount(\"/content/drive\", force_remount=True).\n"
          ],
          "name": "stdout"
        }
      ]
    },
    {
      "cell_type": "code",
      "metadata": {
        "id": "56loc_4PZX5p"
      },
      "source": [
        "!cp 'drive/My Drive/Datasets/CS360/L2.csv' 'L2.csv'\n",
        "!cp 'drive/My Drive/Datasets/CS360/L3.csv' 'L3.csv'"
      ],
      "execution_count": 2,
      "outputs": []
    },
    {
      "cell_type": "code",
      "metadata": {
        "id": "iAYAVax6Rxu-"
      },
      "source": [
        "import pandas as pd\n",
        "import numpy as np\n",
        "import matplotlib.pyplot as plt"
      ],
      "execution_count": 3,
      "outputs": []
    },
    {
      "cell_type": "code",
      "metadata": {
        "id": "DQDNF3pAR722"
      },
      "source": [
        "cols = ['battery_power', 'dual_sim', 'int_memory', 'mobile_wt', 'px_height', 'px_width', 'price_range']\n",
        "df = pd.read_csv('L3.csv', usecols=cols)"
      ],
      "execution_count": 4,
      "outputs": []
    },
    {
      "cell_type": "code",
      "metadata": {
        "colab": {
          "base_uri": "https://localhost:8080/",
          "height": 204
        },
        "id": "1o2dzqekSAyE",
        "outputId": "7a96bbce-1e68-488e-f180-ea15baeef6e9"
      },
      "source": [
        "df.head()"
      ],
      "execution_count": 5,
      "outputs": [
        {
          "output_type": "execute_result",
          "data": {
            "text/html": [
              "<div>\n",
              "<style scoped>\n",
              "    .dataframe tbody tr th:only-of-type {\n",
              "        vertical-align: middle;\n",
              "    }\n",
              "\n",
              "    .dataframe tbody tr th {\n",
              "        vertical-align: top;\n",
              "    }\n",
              "\n",
              "    .dataframe thead th {\n",
              "        text-align: right;\n",
              "    }\n",
              "</style>\n",
              "<table border=\"1\" class=\"dataframe\">\n",
              "  <thead>\n",
              "    <tr style=\"text-align: right;\">\n",
              "      <th></th>\n",
              "      <th>battery_power</th>\n",
              "      <th>dual_sim</th>\n",
              "      <th>int_memory</th>\n",
              "      <th>mobile_wt</th>\n",
              "      <th>px_height</th>\n",
              "      <th>px_width</th>\n",
              "      <th>price_range</th>\n",
              "    </tr>\n",
              "  </thead>\n",
              "  <tbody>\n",
              "    <tr>\n",
              "      <th>0</th>\n",
              "      <td>842</td>\n",
              "      <td>0</td>\n",
              "      <td>7</td>\n",
              "      <td>188</td>\n",
              "      <td>20</td>\n",
              "      <td>756</td>\n",
              "      <td>1</td>\n",
              "    </tr>\n",
              "    <tr>\n",
              "      <th>1</th>\n",
              "      <td>1021</td>\n",
              "      <td>1</td>\n",
              "      <td>53</td>\n",
              "      <td>136</td>\n",
              "      <td>905</td>\n",
              "      <td>1988</td>\n",
              "      <td>2</td>\n",
              "    </tr>\n",
              "    <tr>\n",
              "      <th>2</th>\n",
              "      <td>563</td>\n",
              "      <td>1</td>\n",
              "      <td>41</td>\n",
              "      <td>145</td>\n",
              "      <td>1263</td>\n",
              "      <td>1716</td>\n",
              "      <td>2</td>\n",
              "    </tr>\n",
              "    <tr>\n",
              "      <th>3</th>\n",
              "      <td>615</td>\n",
              "      <td>0</td>\n",
              "      <td>10</td>\n",
              "      <td>131</td>\n",
              "      <td>1216</td>\n",
              "      <td>1786</td>\n",
              "      <td>2</td>\n",
              "    </tr>\n",
              "    <tr>\n",
              "      <th>4</th>\n",
              "      <td>1821</td>\n",
              "      <td>0</td>\n",
              "      <td>44</td>\n",
              "      <td>141</td>\n",
              "      <td>1208</td>\n",
              "      <td>1212</td>\n",
              "      <td>1</td>\n",
              "    </tr>\n",
              "  </tbody>\n",
              "</table>\n",
              "</div>"
            ],
            "text/plain": [
              "   battery_power  dual_sim  int_memory  ...  px_height  px_width  price_range\n",
              "0            842         0           7  ...         20       756            1\n",
              "1           1021         1          53  ...        905      1988            2\n",
              "2            563         1          41  ...       1263      1716            2\n",
              "3            615         0          10  ...       1216      1786            2\n",
              "4           1821         0          44  ...       1208      1212            1\n",
              "\n",
              "[5 rows x 7 columns]"
            ]
          },
          "metadata": {},
          "execution_count": 5
        }
      ]
    },
    {
      "cell_type": "code",
      "metadata": {
        "colab": {
          "base_uri": "https://localhost:8080/"
        },
        "id": "dtkuIhG2SIZJ",
        "outputId": "97cb4995-d980-4726-802f-bcbf03e99dd5"
      },
      "source": [
        "#1\n",
        "nfeatures = df.shape[1]\n",
        "npatterns = df.shape[0]\n",
        "print(f\"No. of features = {nfeatures}\")\n",
        "print(f\"No. of patterns = {npatterns}\")\n",
        "print(f\"dependant variable range: {df['price_range'].min()} - {df['price_range'].max()}\")"
      ],
      "execution_count": 6,
      "outputs": [
        {
          "output_type": "stream",
          "text": [
            "No. of features = 7\n",
            "No. of patterns = 100\n",
            "dependant variable range: 0 - 3\n"
          ],
          "name": "stdout"
        }
      ]
    },
    {
      "cell_type": "code",
      "metadata": {
        "colab": {
          "base_uri": "https://localhost:8080/"
        },
        "id": "fRhCjq5mTjTO",
        "outputId": "a7495e20-fa7b-49c3-94ca-182fc84d4358"
      },
      "source": [
        "#2\n",
        "print(\"a:\")\n",
        "for ratioX in range(10, 91, 10):\n",
        "  df.sample()\n",
        "  train_size = int(npatterns * ratioX/100);\n",
        "  train, test = df[:train_size], df[train_size:]\n",
        "  print(f\"train shape = {train.shape}, test shape = {test.shape}\")\n",
        "\n",
        "print(\"\\nb:\")\n",
        "for ratioY in range(90, 9, -10):\n",
        "  df.sample()\n",
        "  train_size = int(npatterns * ratioY/100);\n",
        "  train, test = df[:train_size], df[train_size:]\n",
        "  print(f\"train shape = {train.shape}, test shape = {test.shape}\")"
      ],
      "execution_count": 7,
      "outputs": [
        {
          "output_type": "stream",
          "text": [
            "a:\n",
            "train shape = (10, 7), test shape = (90, 7)\n",
            "train shape = (20, 7), test shape = (80, 7)\n",
            "train shape = (30, 7), test shape = (70, 7)\n",
            "train shape = (40, 7), test shape = (60, 7)\n",
            "train shape = (50, 7), test shape = (50, 7)\n",
            "train shape = (60, 7), test shape = (40, 7)\n",
            "train shape = (70, 7), test shape = (30, 7)\n",
            "train shape = (80, 7), test shape = (20, 7)\n",
            "train shape = (90, 7), test shape = (10, 7)\n",
            "\n",
            "b:\n",
            "train shape = (90, 7), test shape = (10, 7)\n",
            "train shape = (80, 7), test shape = (20, 7)\n",
            "train shape = (70, 7), test shape = (30, 7)\n",
            "train shape = (60, 7), test shape = (40, 7)\n",
            "train shape = (50, 7), test shape = (50, 7)\n",
            "train shape = (40, 7), test shape = (60, 7)\n",
            "train shape = (30, 7), test shape = (70, 7)\n",
            "train shape = (20, 7), test shape = (80, 7)\n",
            "train shape = (10, 7), test shape = (90, 7)\n"
          ],
          "name": "stdout"
        }
      ]
    },
    {
      "cell_type": "code",
      "metadata": {
        "id": "8NNbj3ZiUpeN"
      },
      "source": [
        "#3\n",
        "columnwise_mean = df.mean(axis=0)\n",
        "rowwise_mean = df.mean(axis=1)\n",
        "overall_mean = df.mean().mean()\n",
        "overall_median = df.median().median()\n",
        "overall_std = df.stack().std()\n",
        "mode = df.mode().mode()"
      ],
      "execution_count": 8,
      "outputs": []
    },
    {
      "cell_type": "code",
      "metadata": {
        "id": "wuFi60koZ3NN",
        "outputId": "fc3df2e4-2d4c-4dbd-a740-b6339ebf45b0",
        "colab": {
          "base_uri": "https://localhost:8080/",
          "height": 282
        }
      },
      "source": [
        "# 4\n",
        "salary_df = pd.read_csv('L2.csv')\n",
        "plt.scatter(salary_df.YearsExperience, salary_df.Salary)"
      ],
      "execution_count": 9,
      "outputs": [
        {
          "output_type": "execute_result",
          "data": {
            "text/plain": [
              "<matplotlib.collections.PathCollection at 0x7f5c45a61590>"
            ]
          },
          "metadata": {},
          "execution_count": 9
        },
        {
          "output_type": "display_data",
          "data": {
            "image/png": "[encoded data removed]",
            "text/plain": [
              "<Figure size 432x288 with 1 Axes>"
            ]
          },
          "metadata": {
            "needs_background": "light"
          }
        }
      ]
    }
  ]
}